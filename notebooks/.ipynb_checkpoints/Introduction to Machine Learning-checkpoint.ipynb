{
 "cells": [
  {
   "cell_type": "markdown",
   "metadata": {},
   "source": [
    "### Introduction to Machine Learning\n",
    "-----------------------------"
   ]
  },
  {
   "cell_type": "markdown",
   "metadata": {},
   "source": [
    "\n",
    "#### Prologue\n",
    "-------\n",
    "- What is Machine Learning?\n",
    "\n",
    "\n",
    "> “A computer program is said to learn from experience E with respect to some class of tasks T and performance measure P, if its performance at tasks in T, as measured by P, improves with experience E.”\n",
    "\n",
    "This is how [Tom Mitchelle] defines Machine Learning. It is essentially art and science of designing adaptive algorithms. In other words, Designing algorithms that ingest data and learn a (hypothesized) model of the data. This model can then be used to detect patterns, predict future data points, help in decision making, etc.\n",
    "\n",
    "\n",
    "- When to use Machine Learning?\n",
    "\n",
    "\n",
    "When there is no closed form solution, has too many ways to solve problem, a need for automation. That means sometimes it is infeasible for humans to write a normal computer program or cannot specify a rigid rule to solve the problem. \n",
    "\n",
    "For example, finding spelling mistake is not a Machine Learning problem, however, suggesting correct spelling can be a good ML problem\n",
    "\n",
    "[Tom Mitchelle]: #"
   ]
  },
  {
   "cell_type": "markdown",
   "metadata": {},
   "source": [
    "#### Features\n",
    "---------------\n",
    "\n",
    "Finally, when we give problems to computer, it should be nice set of numbers. So be it any problem, we need to convert it into set of numbers so that computer can process. In ML we call it features. Most ML Algorithms use numerical vectors to represent features. Lets look at an example of this.\n",
    "\n"
   ]
  },
  {
   "cell_type": "markdown",
   "metadata": {},
   "source": [
    "- Problem statement: To identify incoming email as spam or not\n",
    "\n",
    "Let's understand the problem first. To identify a new email as spam or not system should know how a normal mail and a spam mail look like. Now is a good time to understand *Training Data* and *Test Data*. Email that we already have can be used to teach computer how normal email and spam email look like. These are our Training Data. Any new incoming email would be Test Data. Job of ML trained computer is to predict this new email as spam or not.\n",
    "\n",
    "Example[^1]: Consider following three email headings: -\n",
    "\n",
    "- Good Email: Do you want to go for dinner?\n",
    "- Spam Email: Do you want to win a million dollars?\n",
    "- Good Email: I have a million things to do today!\n",
    "\n",
    "For computers to start its job, we need to convert these emails to numbers. More precisely a __feature vector__. One way to do it is called __bag of words__. We encode the emails as shown below: -\n",
    "\n",
    "| Email    |   Do|You|Want|Go|Million|Dollars|Dinner|Today|\n",
    "|----------|-----|---|----|--|-------|-------|------|-----|\n",
    "| Email1 |   1 |1  |1   |1 |0      |0      |1     |0    |\n",
    "| Email2 |   1 |1  |1   |0 |1      |1      |0     |0    |\n",
    "| Email3 |   1 |0  |0   |0 |1      |0      |0     |1    |\n",
    "\n",
    "\n",
    "Programmatically, the things would approximately look like as given below. (Certainly not the best way, but this is for demonstration purpose only): -\n"
   ]
  },
  {
   "cell_type": "code",
   "execution_count": 1,
   "metadata": {},
   "outputs": [],
   "source": [
    "email1 = \"Do you want to go for dinner?\"\n",
    "email2 = \"Do you want to win a million dollars?\"\n",
    "email3 = \"I have a million things to do today!\""
   ]
  },
  {
   "cell_type": "code",
   "execution_count": 2,
   "metadata": {},
   "outputs": [],
   "source": [
    "import re"
   ]
  },
  {
   "cell_type": "code",
   "execution_count": 3,
   "metadata": {},
   "outputs": [],
   "source": [
    "# Creating bag of words for the given three emails\n",
    "bagOfWords = []\n",
    "for email in [email1, email2, email3]:\n",
    "    for string in set(email.split(' ')):\n",
    "        if string not in bagOfWords:\n",
    "            bagOfWords.append(re.sub(r'[\\W_]', '', string))"
   ]
  },
  {
   "cell_type": "code",
   "execution_count": 4,
   "metadata": {},
   "outputs": [
    {
     "name": "stdout",
     "output_type": "stream",
     "text": [
      "['you', 'want', 'Do', 'dinner', 'to', 'for', 'go', 'million', 'dollars', 'win', 'a', 'things', 'do', 'I', 'have', 'today']\n"
     ]
    }
   ],
   "source": [
    "# So this is our bag of words.\n",
    "print(bagOfWords)"
   ]
  },
  {
   "cell_type": "code",
   "execution_count": 14,
   "metadata": {},
   "outputs": [
    {
     "name": "stderr",
     "output_type": "stream",
     "text": [
      "[nltk_data] Downloading package stopwords to /home/rahul/nltk_data...\n",
      "[nltk_data]   Unzipping corpora/stopwords.zip.\n"
     ]
    }
   ],
   "source": [
    "# But we need to clean up the stop words from this list, since it does not give much information about nature of mail.\n",
    "import nltk\n",
    "nltk.download('stopwords')\n",
    "from nltk.corpus import stopwords"
   ]
  },
  {
   "cell_type": "code",
   "execution_count": 24,
   "metadata": {},
   "outputs": [],
   "source": [
    "for string in bagOfWords:\n",
    "    if string.lower() in set(stopwords.words('english')):\n",
    "        bagOfWords.remove(string)"
   ]
  },
  {
   "cell_type": "code",
   "execution_count": 25,
   "metadata": {},
   "outputs": [
    {
     "name": "stdout",
     "output_type": "stream",
     "text": [
      "['want', 'dinner', 'go', 'million', 'dollars', 'win', 'things', 'today']\n"
     ]
    }
   ],
   "source": [
    "print(bagOfWords)"
   ]
  },
  {
   "cell_type": "code",
   "execution_count": 46,
   "metadata": {},
   "outputs": [],
   "source": [
    "# Now we will convert each email to a vector as follows: -\n",
    "v = [0] * len(bagOfWords) # initialize vector v\n",
    "for string in bagOfWords:\n",
    "    if string in [re.sub(r'[\\W_]','', s) for s in email1.split(' ')]:\n",
    "        v[bagOfWords.index(string)] = 1\n",
    "e1 = v # Saving vector to variable e1 for email1"
   ]
  },
  {
   "cell_type": "code",
   "execution_count": 47,
   "metadata": {},
   "outputs": [
    {
     "data": {
      "text/plain": [
       "[1, 1, 1, 0, 0, 0, 0, 0]"
      ]
     },
     "execution_count": 47,
     "metadata": {},
     "output_type": "execute_result"
    }
   ],
   "source": [
    "e1"
   ]
  },
  {
   "cell_type": "code",
   "execution_count": 48,
   "metadata": {},
   "outputs": [],
   "source": [
    "v = [0] * len(bagOfWords)\n",
    "for string in bagOfWords:\n",
    "    if string in [re.sub(r'[\\W_]','', s) for s in email2.split(' ')]:\n",
    "        v[bagOfWords.index(string)] = 1\n",
    "e2 = v"
   ]
  },
  {
   "cell_type": "code",
   "execution_count": 49,
   "metadata": {},
   "outputs": [
    {
     "data": {
      "text/plain": [
       "[1, 0, 0, 1, 1, 1, 0, 0]"
      ]
     },
     "execution_count": 49,
     "metadata": {},
     "output_type": "execute_result"
    }
   ],
   "source": [
    "e2"
   ]
  },
  {
   "cell_type": "code",
   "execution_count": 51,
   "metadata": {},
   "outputs": [],
   "source": [
    "v = [0] * len(bagOfWords)\n",
    "for string in bagOfWords:\n",
    "    if string in [re.sub(r'[\\W_]','', s) for s in email3.split(' ')]:\n",
    "        v[bagOfWords.index(string)] = 1\n",
    "e3 = v"
   ]
  },
  {
   "cell_type": "code",
   "execution_count": 52,
   "metadata": {},
   "outputs": [
    {
     "data": {
      "text/plain": [
       "[0, 0, 0, 1, 0, 0, 1, 1]"
      ]
     },
     "execution_count": 52,
     "metadata": {},
     "output_type": "execute_result"
    }
   ],
   "source": [
    "e3"
   ]
  },
  {
   "cell_type": "code",
   "execution_count": null,
   "metadata": {},
   "outputs": [],
   "source": []
  }
 ],
 "metadata": {
  "kernelspec": {
   "display_name": "Python 3",
   "language": "python",
   "name": "python3"
  },
  "language_info": {
   "codemirror_mode": {
    "name": "ipython",
    "version": 3
   },
   "file_extension": ".py",
   "mimetype": "text/x-python",
   "name": "python",
   "nbconvert_exporter": "python",
   "pygments_lexer": "ipython3",
   "version": "3.6.8"
  }
 },
 "nbformat": 4,
 "nbformat_minor": 2
}
